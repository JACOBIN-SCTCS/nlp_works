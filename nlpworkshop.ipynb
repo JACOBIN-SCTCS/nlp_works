{
 "cells": [
  {
   "cell_type": "code",
   "execution_count": 3,
   "metadata": {},
   "outputs": [
    {
     "data": {
      "text/plain": [
       "b'\\\\u0d24\\\\u0d3f\\\\u0d30\\\\u0d1e\\\\u0d4d\\\\u0d1e\\\\u0d46\\\\u0d1f\\\\u0d41\\\\u0d24\\\\u0d4d\\\\u0d24'"
      ]
     },
     "execution_count": 3,
     "metadata": {},
     "output_type": "execute_result"
    }
   ],
   "source": [
    "'തിരഞ്ഞെടുത്ത'.encode('unicode-escape')    # ttha is combiantion of basic codepoints  unicodes "
   ]
  },
  {
   "cell_type": "code",
   "execution_count": 4,
   "metadata": {},
   "outputs": [
    {
     "data": {
      "text/plain": [
       "b'hello'"
      ]
     },
     "execution_count": 4,
     "metadata": {},
     "output_type": "execute_result"
    }
   ],
   "source": [
    "# typing in english\n",
    "'hello'.encode('unicode-escape')  #unicode same as english word "
   ]
  },
  {
   "cell_type": "markdown",
   "metadata": {},
   "source": [
    " regular expressions"
   ]
  },
  {
   "cell_type": "code",
   "execution_count": 8,
   "metadata": {},
   "outputs": [
    {
     "data": {
      "text/plain": [
       "['hai', 'hello', 'all']"
      ]
     },
     "execution_count": 8,
     "metadata": {},
     "output_type": "execute_result"
    }
   ],
   "source": [
    "import re\n",
    "# ^[a-z]*  beginning group of characters \n",
    "\n",
    "re.findall( r\"[a-zA-Z]+\" , 'hai hello all')   # regular expressions form matching words \n",
    "\n"
   ]
  },
  {
   "cell_type": "code",
   "execution_count": 9,
   "metadata": {},
   "outputs": [
    {
     "data": {
      "text/plain": [
       "['hai hello all']"
      ]
     },
     "execution_count": 9,
     "metadata": {},
     "output_type": "execute_result"
    }
   ],
   "source": [
    "re.findall( r\"[a-zA-Z ]+\" , 'hai hello all')   # regular expression matches a single sentence"
   ]
  },
  {
   "cell_type": "code",
   "execution_count": 10,
   "metadata": {},
   "outputs": [
    {
     "data": {
      "text/plain": [
       "['hai hello all']"
      ]
     },
     "execution_count": 10,
     "metadata": {},
     "output_type": "execute_result"
    }
   ],
   "source": [
    "re.findall( r\".+\" , 'hai hello all')  #match characters any nymber of times"
   ]
  },
  {
   "cell_type": "code",
   "execution_count": 12,
   "metadata": {},
   "outputs": [
    {
     "data": {
      "text/plain": [
       "['hello']"
      ]
     },
     "execution_count": 12,
     "metadata": {},
     "output_type": "execute_result"
    }
   ],
   "source": [
    "re.findall( r\".+hello.+\" , 'hai hello all')   #matches hello in middle of sentence "
   ]
  },
  {
   "cell_type": "code",
   "execution_count": 13,
   "metadata": {},
   "outputs": [
    {
     "data": {
      "text/plain": [
       "['h']"
      ]
     },
     "execution_count": 13,
     "metadata": {},
     "output_type": "execute_result"
    }
   ],
   "source": [
    "re.findall( r\"^[e|h|p]\" , 'hai hello all')"
   ]
  },
  {
   "cell_type": "code",
   "execution_count": 14,
   "metadata": {},
   "outputs": [
    {
     "data": {
      "text/plain": [
       "['hai hello all']"
      ]
     },
     "execution_count": 14,
     "metadata": {},
     "output_type": "execute_result"
    }
   ],
   "source": [
    "re.findall( r\"^[h].*\" , 'hai hello all')   # matches h at  beginning"
   ]
  },
  {
   "cell_type": "code",
   "execution_count": 15,
   "metadata": {},
   "outputs": [
    {
     "data": {
      "text/plain": [
       "['pea']"
      ]
     },
     "execution_count": 15,
     "metadata": {},
     "output_type": "execute_result"
    }
   ],
   "source": [
    "re.findall( r\"e|h|p.*\" , 'pea')"
   ]
  },
  {
   "cell_type": "markdown",
   "metadata": {},
   "source": [
    "# MATCHING MALAYALAM "
   ]
  },
  {
   "cell_type": "code",
   "execution_count": 18,
   "metadata": {},
   "outputs": [
    {
     "data": {
      "text/plain": [
       "['എല്ലാ',\n",
       " 'ഭാഷകളിലു',\n",
       " 'സ്വതന്ത്രവു',\n",
       " 'സമ്പൂ',\n",
       " 'ണവുമായ',\n",
       " 'വിജ്ഞാനകോശ',\n",
       " 'നി',\n",
       " 'മ്മിക്കുവാനുള്ള',\n",
       " 'ഒരു',\n",
       " 'കൂട്ടായ',\n",
       " 'സ',\n",
       " 'ര',\n",
       " 'ഭമാണ്',\n",
       " 'വിക്കിപീഡിയ',\n",
       " 'ലാഭേച്ഛയില്ലാതെ',\n",
       " 'പ്രവ',\n",
       " 'ത്']"
      ]
     },
     "execution_count": 18,
     "metadata": {},
     "output_type": "execute_result"
    }
   ],
   "source": [
    "re.findall(r\"[അ-്]+\" , 'എല്ലാ ഭാഷകളിലും സ്വതന്ത്രവും സമ്പൂർണവുമായ വിജ്ഞാനകോശം നിർമ്മിക്കുവാനുള്ള ഒരു കൂട്ടായ സംരംഭമാണ് വിക്കിപീഡിയ. ലാഭേച്ഛയില്ലാതെ പ്രവർത്')"
   ]
  },
  {
   "cell_type": "code",
   "execution_count": 19,
   "metadata": {},
   "outputs": [],
   "source": [
    "# splitting a para based on character s    re.split('\\. | \\' , content)\n",
    "# matching characters linke C.P RAMASWAMY    IT SHULD NOT BE SPLIT INTO SENTENCE\n",
    "# { 1,3} combinations\n",
    "# r'[^ ]+$  // matches last word    "
   ]
  },
  {
   "cell_type": "code",
   "execution_count": 27,
   "metadata": {},
   "outputs": [
    {
     "name": "stdout",
     "output_type": "stream",
     "text": [
      "മലയാള ഭാഷയിൽ പ്രസിദ്ധീകരിക്കപ്പെടുന്ന പ്രമുഖ ദിനപത്രങ്ങളിലൊന്നാണ് മലയാള മനോരമ (Malayala Manorama). വായനക്കാരുടെ എണ്ണത്തിന്റെ അടിസ്ഥാനത്തിൽ ഏറ്റവും പ്രചാരമേറിയ മലയാളപത്രവും ഇന്ത്യയിലാകമാനമുള്ള കണക്കെടുത്താൽ പ്രചാരമേറിയ നാലാമത്തെ പത്രവുമാണ് മലയാളമനോരമ.[1][൧] കോട്ടയം ആസ്ഥാനമായ മലയാള മനോരമ കമ്പനിയാണ്‌ പത്രത്തിന്റെ പ്രസാധക‌ർ. ദീപിക കഴിഞ്ഞാൽ കേരളത്തിൽ പ്രവർത്തനം തുടരുന്ന ഏറ്റവും പഴയ പത്രവും മലയാള മനോരമ തന്നെ. \n"
     ]
    }
   ],
   "source": [
    "sent ='മലയാള ഭാഷയിൽ പ്രസിദ്ധീകരിക്കപ്പെടുന്ന പ്രമുഖ ദിനപത്രങ്ങളിലൊന്നാണ് മലയാള മനോരമ (Malayala Manorama). വായനക്കാരുടെ എണ്ണത്തിന്റെ അടിസ്ഥാനത്തിൽ ഏറ്റവും പ്രചാരമേറിയ മലയാളപത്രവും ഇന്ത്യയിലാകമാനമുള്ള കണക്കെടുത്താൽ പ്രചാരമേറിയ നാലാമത്തെ പത്രവുമാണ് മലയാളമനോരമ.[1][൧] കോട്ടയം ആസ്ഥാനമായ മലയാള മനോരമ കമ്പനിയാണ്‌ പത്രത്തിന്റെ പ്രസാധക‌ർ. ദീപിക കഴിഞ്ഞാൽ കേരളത്തിൽ പ്രവർത്തനം തുടരുന്ന ഏറ്റവും പഴയ പത്രവും മലയാള മനോരമ തന്നെ. '\n",
    "print (sent)"
   ]
  },
  {
   "cell_type": "code",
   "execution_count": 28,
   "metadata": {},
   "outputs": [
    {
     "data": {
      "text/plain": [
       "['മലയാള ഭാഷയിൽ പ്രസിദ്ധീകരിക്കപ്പെടുന്ന പ്രമുഖ ദിനപത്രങ്ങളിലൊന്നാണ് മലയാള മനോരമ (Malayala Manorama)',\n",
       " ' വായനക്കാരുടെ എണ്ണത്തിന്റെ അടിസ്ഥാനത്തിൽ ഏറ്റവും പ്രചാരമേറിയ മലയാളപത്രവും ഇന്ത്യയിലാകമാനമുള്ള കണക്കെടുത്താൽ പ്രചാരമേറിയ നാലാമത്തെ പത്രവുമാണ് മലയാളമനോരമ',\n",
       " '[1][൧] കോട്ടയം ആസ്ഥാനമായ മലയാള മനോരമ കമ്പനിയാണ്\\u200c പത്രത്തിന്റെ പ്രസാധക\\u200cർ',\n",
       " ' ദീപിക കഴിഞ്ഞാൽ കേരളത്തിൽ പ്രവർത്തനം തുടരുന്ന ഏറ്റവും പഴയ പത്രവും മലയാള മനോരമ തന്നെ',\n",
       " ' ']"
      ]
     },
     "execution_count": 28,
     "metadata": {},
     "output_type": "execute_result"
    }
   ],
   "source": [
    "re.split('\\.|\\?\\!',sent)"
   ]
  },
  {
   "cell_type": "code",
   "execution_count": 24,
   "metadata": {},
   "outputs": [
    {
     "data": {
      "text/plain": [
       "['മലയാള ഭാഷയിൽ പ്രസിദ്ധീകരിക്കപ്പെടുന്ന പ്രമുഖ ദിനപത്രങ്ങളിലൊന്നാണ് മലയാള മനോരമ (Malayala Manorama). വായനക്കാരുടെ എണ്ണത്തിന്റെ അടിസ്ഥാനത്തിൽ ഏറ്റവും പ്രചാരമേറിയ മലയാളപത്രവും ഇന്ത്യയിലാകമാനമുള്ള കണക്കെടുത്താൽ പ്രചാരമേറിയ നാലാമത്തെ പത്രവുമാണ് മലയാളമനോരമ.[1][൧] കോട്ടയം ആസ്ഥാനമായ മലയാള മനോരമ കമ്പനിയാണ്\\u200c പത്രത്തിന്റെ പ്രസാധക\\u200cർ. ദീപിക കഴിഞ്ഞാൽ കേരളത്തിൽ പ്രവർത്തനം തുടരുന്ന ഏറ്റവും പഴയ പത്രവും മലയാള മനോരമ തന്നെ. ']"
      ]
     },
     "execution_count": 24,
     "metadata": {},
     "output_type": "execute_result"
    }
   ],
   "source": [
    "re.findall(r\"[^ ].+$\" , sent)"
   ]
  },
  {
   "cell_type": "code",
   "execution_count": 25,
   "metadata": {},
   "outputs": [
    {
     "name": "stdout",
     "output_type": "stream",
     "text": [
      "പ്ര\n",
      "്രച\n",
      "രചാ\n",
      "ചാര\n",
      "ാരമ\n",
      "രമേ\n",
      "മേറ\n",
      "േറി\n",
      "റിയ\n"
     ]
    }
   ],
   "source": [
    "# trigram of letters        \n",
    "word ='പ്രചാരമേറിയ'\n",
    "n=3\n",
    "for i in range(len(word) -n+1):\n",
    "    print(word[i:i+3])"
   ]
  },
  {
   "cell_type": "markdown",
   "metadata": {},
   "source": [
    "# SPELLL CHECKER \n",
    "list of words frequency of use\n",
    "\n",
    "frequency based suggestions \n"
   ]
  },
  {
   "cell_type": "code",
   "execution_count": 31,
   "metadata": {},
   "outputs": [
    {
     "name": "stdout",
     "output_type": "stream",
     "text": [
      "പത്തു വർഷത്തെ പത്രപ്രവർത്തന ജീവിതത്തിനിടയിൽ ഇങ്ങനെ ഒരു കണ്ണീർ അവൾ കണ്ടിട്ടില്ല. അപ്രതീക്ഷിത വിജയത്തിന്റെ അത്ഭുത കണ്ണീരും, പരാജയപ്പെടുമ്പോൾ മുറിവേറ്റ മനസ്സിൽ കിനിയുന്ന പക്വതയില്ലായ്മയുടെ കണ്ണീരും. അച്ഛനമ്മമാരുടെ ആനന്ദ കണ്ണീരുമൊക്കെയാണ് സ്കൂൾ യുവജനോത്സവ വേദിയിൽ സാധാരണ കാണാറുള്ളത്. പക്ഷേ ഈ കണ്ണീർ മനസ്സിൽ ഒരു വേദനയായങ്ങനെ കിടക്കുന്നു. പടമാക്കിയ കാമറാമാൻ മാർട്ടിൻ കാഴ്ച്ചക്കാരന്റെ കണ്ണിൽ ഒരു വേദനയാക്കി നിർത്താൻ പാകത്തിൽ ഒപ്പിയെടുത്തിട്ടുണ്ട് ആ കൗമാരക്കണ്ണീർ.\n"
     ]
    }
   ],
   "source": [
    "corpus_sent='പത്തു വർഷത്തെ പത്രപ്രവർത്തന ജീവിതത്തിനിടയിൽ ഇങ്ങനെ ഒരു കണ്ണീർ അവൾ കണ്ടിട്ടില്ല. അപ്രതീക്ഷിത വിജയത്തിന്റെ അത്ഭുത കണ്ണീരും, പരാജയപ്പെടുമ്പോൾ മുറിവേറ്റ മനസ്സിൽ കിനിയുന്ന പക്വതയില്ലായ്മയുടെ കണ്ണീരും. അച്ഛനമ്മമാരുടെ ആനന്ദ കണ്ണീരുമൊക്കെയാണ് സ്കൂൾ യുവജനോത്സവ വേദിയിൽ സാധാരണ കാണാറുള്ളത്. പക്ഷേ ഈ കണ്ണീർ മനസ്സിൽ ഒരു വേദനയായങ്ങനെ കിടക്കുന്നു. പടമാക്കിയ കാമറാമാൻ മാർട്ടിൻ കാഴ്ച്ചക്കാരന്റെ കണ്ണിൽ ഒരു വേദനയാക്കി നിർത്താൻ പാകത്തിൽ ഒപ്പിയെടുത്തിട്ടുണ്ട് ആ കൗമാരക്കണ്ണീർ.'\n",
    "print (corpus_sent)"
   ]
  },
  {
   "cell_type": "code",
   "execution_count": 36,
   "metadata": {},
   "outputs": [
    {
     "name": "stdout",
     "output_type": "stream",
     "text": [
      "['പത്തു', 'വർഷത്തെ', 'പത്രപ്രവർത്തന', 'ജീവിതത്തിനിടയിൽ', 'ഇങ്ങനെ', 'ഒരു', 'കണ്ണീർ', 'അവൾ', 'കണ്ടിട്ടില്ല.', 'അപ്രതീക്ഷിത', 'വിജയത്തിന്റെ', 'അത്ഭുത', 'കണ്ണീരും,', 'പരാജയപ്പെടുമ്പോൾ', 'മുറിവേറ്റ', 'മനസ്സിൽ', 'കിനിയുന്ന', 'പക്വതയില്ലായ്മയുടെ', 'കണ്ണീരും.', 'അച്ഛനമ്മമാരുടെ', 'ആനന്ദ', 'കണ്ണീരുമൊക്കെയാണ്', 'സ്കൂൾ', 'യുവജനോത്സവ', 'വേദിയിൽ', 'സാധാരണ', 'കാണാറുള്ളത്.', 'പക്ഷേ', 'ഈ', 'കണ്ണീർ', 'മനസ്സിൽ', 'ഒരു', 'വേദനയായങ്ങനെ', 'കിടക്കുന്നു.', 'പടമാക്കിയ', 'കാമറാമാൻ', 'മാർട്ടിൻ', 'കാഴ്ച്ചക്കാരന്റെ', 'കണ്ണിൽ', 'ഒരു', 'വേദനയാക്കി', 'നിർത്താൻ', 'പാകത്തിൽ', 'ഒപ്പിയെടുത്തിട്ടുണ്ട്', 'ആ', 'കൗമാരക്കണ്ണീർ.']\n"
     ]
    }
   ],
   "source": [
    "corpus_words=re.split(' ',corpus_sent)\n",
    "print (corpus_words)"
   ]
  },
  {
   "cell_type": "code",
   "execution_count": 34,
   "metadata": {},
   "outputs": [],
   "source": [
    "from collections import Counter as cnt"
   ]
  },
  {
   "cell_type": "code",
   "execution_count": 39,
   "metadata": {},
   "outputs": [
    {
     "name": "stdout",
     "output_type": "stream",
     "text": [
      "Counter({'ഒരു': 3, 'കണ്ണീർ': 2, 'മനസ്സിൽ': 2, 'പത്തു': 1, 'വർഷത്തെ': 1, 'പത്രപ്രവർത്തന': 1, 'ജീവിതത്തിനിടയിൽ': 1, 'ഇങ്ങനെ': 1, 'അവൾ': 1, 'കണ്ടിട്ടില്ല.': 1, 'അപ്രതീക്ഷിത': 1, 'വിജയത്തിന്റെ': 1, 'അത്ഭുത': 1, 'കണ്ണീരും,': 1, 'പരാജയപ്പെടുമ്പോൾ': 1, 'മുറിവേറ്റ': 1, 'കിനിയുന്ന': 1, 'പക്വതയില്ലായ്മയുടെ': 1, 'കണ്ണീരും.': 1, 'അച്ഛനമ്മമാരുടെ': 1, 'ആനന്ദ': 1, 'കണ്ണീരുമൊക്കെയാണ്': 1, 'സ്കൂൾ': 1, 'യുവജനോത്സവ': 1, 'വേദിയിൽ': 1, 'സാധാരണ': 1, 'കാണാറുള്ളത്.': 1, 'പക്ഷേ': 1, 'ഈ': 1, 'വേദനയായങ്ങനെ': 1, 'കിടക്കുന്നു.': 1, 'പടമാക്കിയ': 1, 'കാമറാമാൻ': 1, 'മാർട്ടിൻ': 1, 'കാഴ്ച്ചക്കാരന്റെ': 1, 'കണ്ണിൽ': 1, 'വേദനയാക്കി': 1, 'നിർത്താൻ': 1, 'പാകത്തിൽ': 1, 'ഒപ്പിയെടുത്തിട്ടുണ്ട്': 1, 'ആ': 1, 'കൗമാരക്കണ്ണീർ.': 1})\n"
     ]
    }
   ],
   "source": [
    "freq=cnt(corpus_words)\n",
    "print(freq)"
   ]
  },
  {
   "cell_type": "code",
   "execution_count": 53,
   "metadata": {},
   "outputs": [
    {
     "name": "stdout",
     "output_type": "stream",
     "text": [
      "[['കണ്ണീർ', 2], ['കണ്ണീരും,', 1], ['കണ്ണീരും.', 1], ['കണ്ണീരുമൊക്കെയാണ്', 1], ['കണ്ണിൽ', 1], ['കൗമാരക്കണ്ണീർ.', 1]]\n"
     ]
    }
   ],
   "source": [
    "search_word= 'കണ്ണ'\n",
    "sugg=[]\n",
    "for key in  freq:\n",
    "    if(re.findall(search_word,key)):\n",
    "        sugg.append([key,freq[key]])\n",
    "            \n",
    "\n",
    "print(sugg)"
   ]
  },
  {
   "cell_type": "code",
   "execution_count": 55,
   "metadata": {},
   "outputs": [
    {
     "data": {
      "text/plain": [
       "[['കണ്ണീർ', 2],\n",
       " ['കണ്ണീരും,', 1],\n",
       " ['കണ്ണീരും.', 1],\n",
       " ['കണ്ണീരുമൊക്കെയാണ്', 1],\n",
       " ['കണ്ണിൽ', 1],\n",
       " ['കൗമാരക്കണ്ണീർ.', 1]]"
      ]
     },
     "execution_count": 55,
     "metadata": {},
     "output_type": "execute_result"
    }
   ],
   "source": [
    "sorted(sugg,key=lambda item: item[1],reverse=True)"
   ]
  },
  {
   "cell_type": "code",
   "execution_count": 57,
   "metadata": {},
   "outputs": [
    {
     "name": "stdout",
     "output_type": "stream",
     "text": [
      "['ഇങ്ങനെ', 'കണ്ണീർ', 'അത്ഭുത', 'സാധാരണ', 'കണ്ണിൽ']\n"
     ]
    }
   ],
   "source": [
    "# insertion deleteion transpose  \n",
    "#for matching characters\n",
    "\n",
    "#insertion  for \n",
    "possibilty_list = [] \n",
    "incorrect_word = 'കണ്ടീർ'\n",
    "for key in freq:\n",
    "    if(len(incorrect_word) == len(key)):\n",
    "        possibilty_list.append(key)\n",
    "\n",
    "print(possibilty_list)\n"
   ]
  },
  {
   "cell_type": "code",
   "execution_count": 60,
   "metadata": {},
   "outputs": [
    {
     "ename": "SyntaxError",
     "evalue": "invalid syntax (<ipython-input-60-f129d62c67e4>, line 4)",
     "output_type": "error",
     "traceback": [
      "\u001b[0;36m  File \u001b[0;32m\"<ipython-input-60-f129d62c67e4>\"\u001b[0;36m, line \u001b[0;32m4\u001b[0m\n\u001b[0;31m    for i in range(0d05,0d39):\u001b[0m\n\u001b[0m                      ^\u001b[0m\n\u001b[0;31mSyntaxError\u001b[0m\u001b[0;31m:\u001b[0m invalid syntax\n"
     ]
    }
   ],
   "source": [
    "#insertion length matching\n",
    "possible_replacements = [] \n",
    "\n",
    "for i in range(0d05,0d39):\n",
    "    possible_replacements.append(i)\n",
    "possible_replacements\n",
    "  \n",
    "\n"
   ]
  },
  {
   "cell_type": "code",
   "execution_count": 63,
   "metadata": {
    "scrolled": true
   },
   "outputs": [
    {
     "name": "stdout",
     "output_type": "stream",
     "text": [
      "  hello\n",
      "h  ello\n",
      "he  llo\n",
      "hel  lo\n",
      "hell  o\n"
     ]
    }
   ],
   "source": [
    "word='hello'\n",
    "splitted_data = [] \n",
    "for i in range(len(word)):\n",
    "    print(word[:i] +  '  ' + word[i:])\n",
    "    splitted_data.append((word[:i] , word[i:]))\n",
    "    \n",
    "    "
   ]
  },
  {
   "cell_type": "code",
   "execution_count": 64,
   "metadata": {},
   "outputs": [
    {
     "data": {
      "text/plain": [
       "[('', 'hello'), ('h', 'ello'), ('he', 'llo'), ('hel', 'lo'), ('hell', 'o')]"
      ]
     },
     "execution_count": 64,
     "metadata": {},
     "output_type": "execute_result"
    }
   ],
   "source": [
    "splitted_data\n"
   ]
  },
  {
   "cell_type": "code",
   "execution_count": 68,
   "metadata": {},
   "outputs": [],
   "source": [
    "chars='abcdefghijklmnopqrstuvwxyz'"
   ]
  },
  {
   "cell_type": "code",
   "execution_count": 69,
   "metadata": {},
   "outputs": [
    {
     "name": "stdout",
     "output_type": "stream",
     "text": [
      "aello\n",
      "bello\n",
      "cello\n",
      "dello\n",
      "eello\n",
      "fello\n",
      "gello\n",
      "hello\n",
      "iello\n",
      "jello\n",
      "kello\n",
      "lello\n",
      "mello\n",
      "nello\n",
      "oello\n",
      "pello\n",
      "qello\n",
      "rello\n",
      "sello\n",
      "tello\n",
      "uello\n",
      "vello\n",
      "wello\n",
      "xello\n",
      "yello\n",
      "zello\n",
      "hallo\n",
      "hbllo\n",
      "hcllo\n",
      "hdllo\n",
      "hello\n",
      "hfllo\n",
      "hgllo\n",
      "hhllo\n",
      "hillo\n",
      "hjllo\n",
      "hkllo\n",
      "hlllo\n",
      "hmllo\n",
      "hnllo\n",
      "hollo\n",
      "hpllo\n",
      "hqllo\n",
      "hrllo\n",
      "hsllo\n",
      "htllo\n",
      "hullo\n",
      "hvllo\n",
      "hwllo\n",
      "hxllo\n",
      "hyllo\n",
      "hzllo\n",
      "healo\n",
      "heblo\n",
      "heclo\n",
      "hedlo\n",
      "heelo\n",
      "heflo\n",
      "heglo\n",
      "hehlo\n",
      "heilo\n",
      "hejlo\n",
      "heklo\n",
      "hello\n",
      "hemlo\n",
      "henlo\n",
      "heolo\n",
      "heplo\n",
      "heqlo\n",
      "herlo\n",
      "heslo\n",
      "hetlo\n",
      "heulo\n",
      "hevlo\n",
      "hewlo\n",
      "hexlo\n",
      "heylo\n",
      "hezlo\n",
      "helao\n",
      "helbo\n",
      "helco\n",
      "heldo\n",
      "heleo\n",
      "helfo\n",
      "helgo\n",
      "helho\n",
      "helio\n",
      "heljo\n",
      "helko\n",
      "hello\n",
      "helmo\n",
      "helno\n",
      "heloo\n",
      "helpo\n",
      "helqo\n",
      "helro\n",
      "helso\n",
      "helto\n",
      "heluo\n",
      "helvo\n",
      "helwo\n",
      "helxo\n",
      "helyo\n",
      "helzo\n",
      "hella\n",
      "hellb\n",
      "hellc\n",
      "helld\n",
      "helle\n",
      "hellf\n",
      "hellg\n",
      "hellh\n",
      "helli\n",
      "hellj\n",
      "hellk\n",
      "helll\n",
      "hellm\n",
      "helln\n",
      "hello\n",
      "hellp\n",
      "hellq\n",
      "hellr\n",
      "hells\n",
      "hellt\n",
      "hellu\n",
      "hellv\n",
      "hellw\n",
      "hellx\n",
      "helly\n",
      "hellz\n"
     ]
    }
   ],
   "source": [
    "#insertion\n",
    "for L,R in  splitted_data:\n",
    "    if R:\n",
    "        for c in chars :\n",
    "            print(L+c+ R[1:])\n",
    "        "
   ]
  },
  {
   "cell_type": "code",
   "execution_count": 70,
   "metadata": {},
   "outputs": [
    {
     "name": "stdout",
     "output_type": "stream",
     "text": [
      "ello\n",
      "ello\n",
      "ello\n",
      "ello\n",
      "ello\n",
      "ello\n",
      "ello\n",
      "ello\n",
      "ello\n",
      "ello\n",
      "ello\n",
      "ello\n",
      "ello\n",
      "ello\n",
      "ello\n",
      "ello\n",
      "ello\n",
      "ello\n",
      "ello\n",
      "ello\n",
      "ello\n",
      "ello\n",
      "ello\n",
      "ello\n",
      "ello\n",
      "ello\n",
      "hllo\n",
      "hllo\n",
      "hllo\n",
      "hllo\n",
      "hllo\n",
      "hllo\n",
      "hllo\n",
      "hllo\n",
      "hllo\n",
      "hllo\n",
      "hllo\n",
      "hllo\n",
      "hllo\n",
      "hllo\n",
      "hllo\n",
      "hllo\n",
      "hllo\n",
      "hllo\n",
      "hllo\n",
      "hllo\n",
      "hllo\n",
      "hllo\n",
      "hllo\n",
      "hllo\n",
      "hllo\n",
      "hllo\n",
      "helo\n",
      "helo\n",
      "helo\n",
      "helo\n",
      "helo\n",
      "helo\n",
      "helo\n",
      "helo\n",
      "helo\n",
      "helo\n",
      "helo\n",
      "helo\n",
      "helo\n",
      "helo\n",
      "helo\n",
      "helo\n",
      "helo\n",
      "helo\n",
      "helo\n",
      "helo\n",
      "helo\n",
      "helo\n",
      "helo\n",
      "helo\n",
      "helo\n",
      "helo\n",
      "helo\n",
      "helo\n",
      "helo\n",
      "helo\n",
      "helo\n",
      "helo\n",
      "helo\n",
      "helo\n",
      "helo\n",
      "helo\n",
      "helo\n",
      "helo\n",
      "helo\n",
      "helo\n",
      "helo\n",
      "helo\n",
      "helo\n",
      "helo\n",
      "helo\n",
      "helo\n",
      "helo\n",
      "helo\n",
      "helo\n",
      "helo\n",
      "helo\n",
      "helo\n",
      "hell\n",
      "hell\n",
      "hell\n",
      "hell\n",
      "hell\n",
      "hell\n",
      "hell\n",
      "hell\n",
      "hell\n",
      "hell\n",
      "hell\n",
      "hell\n",
      "hell\n",
      "hell\n",
      "hell\n",
      "hell\n",
      "hell\n",
      "hell\n",
      "hell\n",
      "hell\n",
      "hell\n",
      "hell\n",
      "hell\n",
      "hell\n",
      "hell\n",
      "hell\n"
     ]
    }
   ],
   "source": [
    "#deletion\n",
    "for L,R in  splitted_data:\n",
    "    if R:\n",
    "        for c in chars :\n",
    "            print(L+ R[1:])"
   ]
  },
  {
   "cell_type": "code",
   "execution_count": 71,
   "metadata": {},
   "outputs": [
    {
     "data": {
      "text/plain": [
       "'In computing, plain text is a loose term for data (e.g. file contents) that represent only characters of readable material but not its graphical representation nor other objects (floating-point numbers, images, etc.). It may also include a limited number of characters that control simple arrangement of text, such as spaces, line breaks, or tabulation characters (although tab characters can \"mean\" many different things, so are hardly \"plain\"). Plain text is different from formatted text, where style information is included; from structured text, where structural parts of the document such as paragraphs, sections, and the like are identified); and from binary files in which some portions must be interpreted as binary objects (encoded integers, real numbers, images, etc.). '"
      ]
     },
     "execution_count": 71,
     "metadata": {},
     "output_type": "execute_result"
    }
   ],
   "source": [
    "#SPELL CHECKER \n",
    "\n",
    "wiki_data = 'In computing, plain text is a loose term for data (e.g. file contents) that represent only characters of readable material but not its graphical representation nor other objects (floating-point numbers, images, etc.). It may also include a limited number of characters that control simple arrangement of text, such as spaces, line breaks, or tabulation characters (although tab characters can \"mean\" many different things, so are hardly \"plain\"). Plain text is different from formatted text, where style information is included; from structured text, where structural parts of the document such as paragraphs, sections, and the like are identified); and from binary files in which some portions must be interpreted as binary objects (encoded integers, real numbers, images, etc.). '\n",
    "wiki_data"
   ]
  },
  {
   "cell_type": "code",
   "execution_count": 73,
   "metadata": {},
   "outputs": [
    {
     "name": "stdout",
     "output_type": "stream",
     "text": [
      "['In', 'computing,', 'plain', 'text', 'is', 'a', 'loose', 'term', 'for', 'data', '(e.g.', 'file', 'contents)', 'that', 'represent', 'only', 'characters', 'of', 'readable', 'material', 'but', 'not', 'its', 'graphical', 'representation', 'nor', 'other', 'objects', '(floating-point', 'numbers,', 'images,', 'etc.).', 'It', 'may', 'also', 'include', 'a', 'limited', 'number', 'of', 'characters', 'that', 'control', 'simple', 'arrangement', 'of', 'text,', 'such', 'as', 'spaces,', 'line', 'breaks,', 'or', 'tabulation', 'characters', '(although', 'tab', 'characters', 'can', '\"mean\"', 'many', 'different', 'things,', 'so', 'are', 'hardly', '\"plain\").', 'Plain', 'text', 'is', 'different', 'from', 'formatted', 'text,', 'where', 'style', 'information', 'is', 'included;', 'from', 'structured', 'text,', 'where', 'structural', 'parts', 'of', 'the', 'document', 'such', 'as', 'paragraphs,', 'sections,', 'and', 'the', 'like', 'are', 'identified);', 'and', 'from', 'binary', 'files', 'in', 'which', 'some', 'portions', 'must', 'be', 'interpreted', 'as', 'binary', 'objects', '(encoded', 'integers,', 'real', 'numbers,', 'images,', 'etc.).', '']\n"
     ]
    }
   ],
   "source": [
    "words = re.split(' ' ,wiki_data)\n",
    "print(words)"
   ]
  },
  {
   "cell_type": "code",
   "execution_count": 74,
   "metadata": {},
   "outputs": [
    {
     "name": "stdout",
     "output_type": "stream",
     "text": [
      "Counter({'characters': 4, 'of': 4, 'is': 3, 'text,': 3, 'as': 3, 'from': 3, 'text': 2, 'a': 2, 'that': 2, 'objects': 2, 'numbers,': 2, 'images,': 2, 'etc.).': 2, 'such': 2, 'different': 2, 'are': 2, 'where': 2, 'the': 2, 'and': 2, 'binary': 2, 'In': 1, 'computing,': 1, 'plain': 1, 'loose': 1, 'term': 1, 'for': 1, 'data': 1, '(e.g.': 1, 'file': 1, 'contents)': 1, 'represent': 1, 'only': 1, 'readable': 1, 'material': 1, 'but': 1, 'not': 1, 'its': 1, 'graphical': 1, 'representation': 1, 'nor': 1, 'other': 1, '(floating-point': 1, 'It': 1, 'may': 1, 'also': 1, 'include': 1, 'limited': 1, 'number': 1, 'control': 1, 'simple': 1, 'arrangement': 1, 'spaces,': 1, 'line': 1, 'breaks,': 1, 'or': 1, 'tabulation': 1, '(although': 1, 'tab': 1, 'can': 1, '\"mean\"': 1, 'many': 1, 'things,': 1, 'so': 1, 'hardly': 1, '\"plain\").': 1, 'Plain': 1, 'formatted': 1, 'style': 1, 'information': 1, 'included;': 1, 'structured': 1, 'structural': 1, 'parts': 1, 'document': 1, 'paragraphs,': 1, 'sections,': 1, 'like': 1, 'identified);': 1, 'files': 1, 'in': 1, 'which': 1, 'some': 1, 'portions': 1, 'must': 1, 'be': 1, 'interpreted': 1, '(encoded': 1, 'integers,': 1, 'real': 1, '': 1})\n"
     ]
    }
   ],
   "source": [
    "freq=cnt(words)\n",
    "print(freq)"
   ]
  },
  {
   "cell_type": "code",
   "execution_count": 75,
   "metadata": {},
   "outputs": [
    {
     "data": {
      "text/plain": [
       "[('', 'hello'),\n",
       " ('h', 'ello'),\n",
       " ('he', 'llo'),\n",
       " ('hel', 'lo'),\n",
       " ('hell', 'o'),\n",
       " ('hello', '')]"
      ]
     },
     "execution_count": 75,
     "metadata": {},
     "output_type": "execute_result"
    }
   ],
   "source": [
    "def split_word (x):\n",
    "    combinations =[] \n",
    "    for i in range(len(x)+1):\n",
    "        combinations.append((x[:i] , x[i:]))\n",
    "    \n",
    "    return combinations\n",
    "\n",
    "\n",
    "\n",
    "        \n",
    "    "
   ]
  },
  {
   "cell_type": "code",
   "execution_count": 76,
   "metadata": {},
   "outputs": [],
   "source": [
    "characters ='abcdefghijklmnopqrstuvwxyz'"
   ]
  },
  {
   "cell_type": "code",
   "execution_count": 80,
   "metadata": {},
   "outputs": [
    {
     "data": {
      "text/plain": [
       "['can']"
      ]
     },
     "execution_count": 80,
     "metadata": {},
     "output_type": "execute_result"
    }
   ],
   "source": [
    "def replace_word(l):\n",
    "    \n",
    "    return_dict = { }\n",
    "    \n",
    "    for L,R in l:\n",
    "        if R:\n",
    "            for c in characters:\n",
    "                word = L + c +R[1:]\n",
    "                if word in freq :\n",
    "                    return_dict[word] = freq[word]\n",
    "    return sorted(return_dict,key=lambda item: item[1],reverse=True)\n",
    "\n",
    "\n",
    "\n",
    "\n",
    "t =split_word('ban')\n",
    "replace_word(t)\n",
    "                    \n",
    "                "
   ]
  },
  {
   "cell_type": "code",
   "execution_count": null,
   "metadata": {},
   "outputs": [],
   "source": []
  }
 ],
 "metadata": {
  "kernelspec": {
   "display_name": "nltkenv",
   "language": "python",
   "name": "nltkenv"
  },
  "language_info": {
   "codemirror_mode": {
    "name": "ipython",
    "version": 3
   },
   "file_extension": ".py",
   "mimetype": "text/x-python",
   "name": "python",
   "nbconvert_exporter": "python",
   "pygments_lexer": "ipython3",
   "version": "3.6.7"
  }
 },
 "nbformat": 4,
 "nbformat_minor": 2
}
