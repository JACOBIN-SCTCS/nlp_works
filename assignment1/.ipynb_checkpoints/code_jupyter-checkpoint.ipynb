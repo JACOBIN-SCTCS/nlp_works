{
 "cells": [
  {
   "cell_type": "code",
   "execution_count": null,
   "metadata": {},
   "outputs": [],
   "source": [
    "import nltk"
   ]
  },
  {
   "cell_type": "markdown",
   "metadata": {},
   "source": [
    "Opening the file and reading the contents of the file for use"
   ]
  },
  {
   "cell_type": "code",
   "execution_count": 3,
   "metadata": {},
   "outputs": [
    {
     "name": "stdout",
     "output_type": "stream",
     "text": [
      "On an exceptionally hot evening early in July a young man came out of\n",
      "the garret in which he lodged in S. Place and walked slowly, as though\n",
      "in hesitation, towards K. bridge.\n",
      "He had successfully avoided meeting his landlady on the staircase. His\n",
      "garret was under the roof of a high, five-storied house and was more\n",
      "like a cupboard than a room. The landlady who provided him with garret,\n",
      "dinners, and attendance, lived on the floor below, and every time\n",
      "he went out he was obliged to pass her kitchen, the door of which\n",
      "invariably stood open. And each time he passed, the young man had a\n",
      "sick, frightened feeling, which made him scowl and feel ashamed. He was\n",
      "hopelessly in debt to his landlady, and was afraid of meeting her.\n",
      "\n",
      "This was not because he was cowardly and abject, quite the contrary; but\n",
      "for some time past he had been in an overstrained irritable condition,\n",
      "verging on hypochondria. He had become so completely absorbed in\n",
      "himself, and isolated from his fellows that he dreaded meeting, not\n",
      "only his landlady, but anyone at all. He was crushed by poverty, but the\n",
      "anxieties of his position had of late ceased to weigh upon him. He had\n",
      "given up attending to matters of practical importance; he had lost all\n",
      "desire to do so. Nothing that any landlady could do had a real terror\n",
      "for him. But to be stopped on the stairs, to be forced to listen to her\n",
      "trivial, irrelevant gossip, to pestering demands for payment, threats\n",
      "and complaints, and to rack his brains for excuses, to prevaricate, to\n",
      "lie--no, rather than that, he would creep down the stairs like a cat and\n",
      "slip out unseen.\n",
      "\n",
      "This evening, however, on coming out into the street, he became acutely\n",
      "aware of his fears.\n",
      "\n"
     ]
    }
   ],
   "source": [
    "f = open('sample.txt' ,'r')\n",
    "text = f.read()\n",
    "f.close()\n",
    "\n",
    "print(text)\n"
   ]
  },
  {
   "cell_type": "code",
   "execution_count": 4,
   "metadata": {},
   "outputs": [
    {
     "name": "stdout",
     "output_type": "stream",
     "text": [
      "['On an exceptionally hot evening early in July a young man came out of\\nthe garret in which he lodged in S. Place and walked slowly, as though\\nin hesitation, towards K. bridge.', 'He had successfully avoided meeting his landlady on the staircase.', 'His\\ngarret was under the roof of a high, five-storied house and was more\\nlike a cupboard than a room.', 'The landlady who provided him with garret,\\ndinners, and attendance, lived on the floor below, and every time\\nhe went out he was obliged to pass her kitchen, the door of which\\ninvariably stood open.', 'And each time he passed, the young man had a\\nsick, frightened feeling, which made him scowl and feel ashamed.', 'He was\\nhopelessly in debt to his landlady, and was afraid of meeting her.', 'This was not because he was cowardly and abject, quite the contrary; but\\nfor some time past he had been in an overstrained irritable condition,\\nverging on hypochondria.', 'He had become so completely absorbed in\\nhimself, and isolated from his fellows that he dreaded meeting, not\\nonly his landlady, but anyone at all.', 'He was crushed by poverty, but the\\nanxieties of his position had of late ceased to weigh upon him.', 'He had\\ngiven up attending to matters of practical importance; he had lost all\\ndesire to do so.', 'Nothing that any landlady could do had a real terror\\nfor him.', 'But to be stopped on the stairs, to be forced to listen to her\\ntrivial, irrelevant gossip, to pestering demands for payment, threats\\nand complaints, and to rack his brains for excuses, to prevaricate, to\\nlie--no, rather than that, he would creep down the stairs like a cat and\\nslip out unseen.', 'This evening, however, on coming out into the street, he became acutely\\naware of his fears.']\n"
     ]
    }
   ],
   "source": [
    "#Using sent_tokenize to tokenize the input text into sentences\n",
    "\n",
    "sentences = nltk.sent_tokenize(text)\n",
    "print(sentences)\n",
    "\n"
   ]
  },
  {
   "cell_type": "code",
   "execution_count": 5,
   "metadata": {},
   "outputs": [
    {
     "name": "stdout",
     "output_type": "stream",
     "text": [
      "['On', 'an', 'exceptionally', 'hot', 'evening', 'early', 'in', 'July', 'a', 'young', 'man', 'came', 'out', 'of', 'the', 'garret', 'in', 'which', 'he', 'lodged', 'in', 'S.', 'Place', 'and', 'walked', 'slowly', ',', 'as', 'though', 'in', 'hesitation', ',', 'towards', 'K.', 'bridge', '.', 'He', 'had', 'successfully', 'avoided', 'meeting', 'his', 'landlady', 'on', 'the', 'staircase', '.', 'His', 'garret', 'was', 'under', 'the', 'roof', 'of', 'a', 'high', ',', 'five-storied', 'house', 'and', 'was', 'more', 'like', 'a', 'cupboard', 'than', 'a', 'room', '.', 'The', 'landlady', 'who', 'provided', 'him', 'with', 'garret', ',', 'dinners', ',', 'and', 'attendance', ',', 'lived', 'on', 'the', 'floor', 'below', ',', 'and', 'every', 'time', 'he', 'went', 'out', 'he', 'was', 'obliged', 'to', 'pass', 'her', 'kitchen', ',', 'the', 'door', 'of', 'which', 'invariably', 'stood', 'open', '.', 'And', 'each', 'time', 'he', 'passed', ',', 'the', 'young', 'man', 'had', 'a', 'sick', ',', 'frightened', 'feeling', ',', 'which', 'made', 'him', 'scowl', 'and', 'feel', 'ashamed', '.', 'He', 'was', 'hopelessly', 'in', 'debt', 'to', 'his', 'landlady', ',', 'and', 'was', 'afraid', 'of', 'meeting', 'her', '.', 'This', 'was', 'not', 'because', 'he', 'was', 'cowardly', 'and', 'abject', ',', 'quite', 'the', 'contrary', ';', 'but', 'for', 'some', 'time', 'past', 'he', 'had', 'been', 'in', 'an', 'overstrained', 'irritable', 'condition', ',', 'verging', 'on', 'hypochondria', '.', 'He', 'had', 'become', 'so', 'completely', 'absorbed', 'in', 'himself', ',', 'and', 'isolated', 'from', 'his', 'fellows', 'that', 'he', 'dreaded', 'meeting', ',', 'not', 'only', 'his', 'landlady', ',', 'but', 'anyone', 'at', 'all', '.', 'He', 'was', 'crushed', 'by', 'poverty', ',', 'but', 'the', 'anxieties', 'of', 'his', 'position', 'had', 'of', 'late', 'ceased', 'to', 'weigh', 'upon', 'him', '.', 'He', 'had', 'given', 'up', 'attending', 'to', 'matters', 'of', 'practical', 'importance', ';', 'he', 'had', 'lost', 'all', 'desire', 'to', 'do', 'so', '.', 'Nothing', 'that', 'any', 'landlady', 'could', 'do', 'had', 'a', 'real', 'terror', 'for', 'him', '.', 'But', 'to', 'be', 'stopped', 'on', 'the', 'stairs', ',', 'to', 'be', 'forced', 'to', 'listen', 'to', 'her', 'trivial', ',', 'irrelevant', 'gossip', ',', 'to', 'pestering', 'demands', 'for', 'payment', ',', 'threats', 'and', 'complaints', ',', 'and', 'to', 'rack', 'his', 'brains', 'for', 'excuses', ',', 'to', 'prevaricate', ',', 'to', 'lie', '--', 'no', ',', 'rather', 'than', 'that', ',', 'he', 'would', 'creep', 'down', 'the', 'stairs', 'like', 'a', 'cat', 'and', 'slip', 'out', 'unseen', '.', 'This', 'evening', ',', 'however', ',', 'on', 'coming', 'out', 'into', 'the', 'street', ',', 'he', 'became', 'acutely', 'aware', 'of', 'his', 'fears', '.']\n"
     ]
    }
   ],
   "source": [
    "#Using word_tokenize to tokenize the sentences into words\n",
    "words= nltk.word_tokenize(text)\n",
    "print(words)"
   ]
  },
  {
   "cell_type": "code",
   "execution_count": 6,
   "metadata": {},
   "outputs": [
    {
     "name": "stdout",
     "output_type": "stream",
     "text": [
      "[('On', 'IN'), ('an', 'DT'), ('exceptionally', 'RB'), ('hot', 'JJ'), ('evening', 'VBG'), ('early', 'JJ'), ('in', 'IN'), ('July', 'NNP'), ('a', 'DT'), ('young', 'JJ'), ('man', 'NN'), ('came', 'VBD'), ('out', 'IN'), ('of', 'IN'), ('the', 'DT'), ('garret', 'NN'), ('in', 'IN'), ('which', 'WDT'), ('he', 'PRP'), ('lodged', 'VBD'), ('in', 'IN'), ('S.', 'NNP'), ('Place', 'NNP'), ('and', 'CC'), ('walked', 'VBD'), ('slowly', 'RB'), (',', ','), ('as', 'IN'), ('though', 'IN'), ('in', 'IN'), ('hesitation', 'NN'), (',', ','), ('towards', 'NNS'), ('K.', 'NNP'), ('bridge', 'NN'), ('.', '.'), ('He', 'PRP'), ('had', 'VBD'), ('successfully', 'RB'), ('avoided', 'VBN'), ('meeting', 'VBG'), ('his', 'PRP$'), ('landlady', 'NN'), ('on', 'IN'), ('the', 'DT'), ('staircase', 'NN'), ('.', '.'), ('His', 'PRP$'), ('garret', 'NN'), ('was', 'VBD'), ('under', 'IN'), ('the', 'DT'), ('roof', 'NN'), ('of', 'IN'), ('a', 'DT'), ('high', 'JJ'), (',', ','), ('five-storied', 'JJ'), ('house', 'NN'), ('and', 'CC'), ('was', 'VBD'), ('more', 'RBR'), ('like', 'IN'), ('a', 'DT'), ('cupboard', 'NN'), ('than', 'IN'), ('a', 'DT'), ('room', 'NN'), ('.', '.'), ('The', 'DT'), ('landlady', 'NN'), ('who', 'WP'), ('provided', 'VBD'), ('him', 'PRP'), ('with', 'IN'), ('garret', 'NN'), (',', ','), ('dinners', 'NNS'), (',', ','), ('and', 'CC'), ('attendance', 'NN'), (',', ','), ('lived', 'VBD'), ('on', 'IN'), ('the', 'DT'), ('floor', 'NN'), ('below', 'IN'), (',', ','), ('and', 'CC'), ('every', 'DT'), ('time', 'NN'), ('he', 'PRP'), ('went', 'VBD'), ('out', 'IN'), ('he', 'PRP'), ('was', 'VBD'), ('obliged', 'VBN'), ('to', 'TO'), ('pass', 'VB'), ('her', 'PRP$'), ('kitchen', 'NN'), (',', ','), ('the', 'DT'), ('door', 'NN'), ('of', 'IN'), ('which', 'WDT'), ('invariably', 'RB'), ('stood', 'VBD'), ('open', 'JJ'), ('.', '.'), ('And', 'CC'), ('each', 'DT'), ('time', 'NN'), ('he', 'PRP'), ('passed', 'VBD'), (',', ','), ('the', 'DT'), ('young', 'JJ'), ('man', 'NN'), ('had', 'VBD'), ('a', 'DT'), ('sick', 'JJ'), (',', ','), ('frightened', 'VBD'), ('feeling', 'NN'), (',', ','), ('which', 'WDT'), ('made', 'VBD'), ('him', 'PRP'), ('scowl', 'NN'), ('and', 'CC'), ('feel', 'NN'), ('ashamed', 'RB'), ('.', '.'), ('He', 'PRP'), ('was', 'VBD'), ('hopelessly', 'RB'), ('in', 'IN'), ('debt', 'NN'), ('to', 'TO'), ('his', 'PRP$'), ('landlady', 'NN'), (',', ','), ('and', 'CC'), ('was', 'VBD'), ('afraid', 'VBN'), ('of', 'IN'), ('meeting', 'VBG'), ('her', 'PRP$'), ('.', '.'), ('This', 'DT'), ('was', 'VBD'), ('not', 'RB'), ('because', 'IN'), ('he', 'PRP'), ('was', 'VBD'), ('cowardly', 'RB'), ('and', 'CC'), ('abject', 'VB'), (',', ','), ('quite', 'PDT'), ('the', 'DT'), ('contrary', 'JJ'), (';', ':'), ('but', 'CC'), ('for', 'IN'), ('some', 'DT'), ('time', 'NN'), ('past', 'IN'), ('he', 'PRP'), ('had', 'VBD'), ('been', 'VBN'), ('in', 'IN'), ('an', 'DT'), ('overstrained', 'JJ'), ('irritable', 'JJ'), ('condition', 'NN'), (',', ','), ('verging', 'VBG'), ('on', 'IN'), ('hypochondria', 'NN'), ('.', '.'), ('He', 'PRP'), ('had', 'VBD'), ('become', 'VBN'), ('so', 'RB'), ('completely', 'RB'), ('absorbed', 'VBN'), ('in', 'IN'), ('himself', 'PRP'), (',', ','), ('and', 'CC'), ('isolated', 'VBD'), ('from', 'IN'), ('his', 'PRP$'), ('fellows', 'NNS'), ('that', 'IN'), ('he', 'PRP'), ('dreaded', 'VBD'), ('meeting', 'NN'), (',', ','), ('not', 'RB'), ('only', 'RB'), ('his', 'PRP$'), ('landlady', 'NN'), (',', ','), ('but', 'CC'), ('anyone', 'NN'), ('at', 'IN'), ('all', 'DT'), ('.', '.'), ('He', 'PRP'), ('was', 'VBD'), ('crushed', 'VBN'), ('by', 'IN'), ('poverty', 'NN'), (',', ','), ('but', 'CC'), ('the', 'DT'), ('anxieties', 'NNS'), ('of', 'IN'), ('his', 'PRP$'), ('position', 'NN'), ('had', 'VBD'), ('of', 'IN'), ('late', 'JJ'), ('ceased', 'VBN'), ('to', 'TO'), ('weigh', 'VB'), ('upon', 'IN'), ('him', 'PRP'), ('.', '.'), ('He', 'PRP'), ('had', 'VBD'), ('given', 'VBN'), ('up', 'RP'), ('attending', 'VBG'), ('to', 'TO'), ('matters', 'NNS'), ('of', 'IN'), ('practical', 'JJ'), ('importance', 'NN'), (';', ':'), ('he', 'PRP'), ('had', 'VBD'), ('lost', 'VBN'), ('all', 'DT'), ('desire', 'NN'), ('to', 'TO'), ('do', 'VB'), ('so', 'RB'), ('.', '.'), ('Nothing', 'NN'), ('that', 'IN'), ('any', 'DT'), ('landlady', 'NN'), ('could', 'MD'), ('do', 'VB'), ('had', 'VBD'), ('a', 'DT'), ('real', 'JJ'), ('terror', 'NN'), ('for', 'IN'), ('him', 'PRP'), ('.', '.'), ('But', 'CC'), ('to', 'TO'), ('be', 'VB'), ('stopped', 'VBN'), ('on', 'IN'), ('the', 'DT'), ('stairs', 'NNS'), (',', ','), ('to', 'TO'), ('be', 'VB'), ('forced', 'VBN'), ('to', 'TO'), ('listen', 'VB'), ('to', 'TO'), ('her', 'PRP$'), ('trivial', 'JJ'), (',', ','), ('irrelevant', 'JJ'), ('gossip', 'NN'), (',', ','), ('to', 'TO'), ('pestering', 'VBG'), ('demands', 'NNS'), ('for', 'IN'), ('payment', 'NN'), (',', ','), ('threats', 'NNS'), ('and', 'CC'), ('complaints', 'NNS'), (',', ','), ('and', 'CC'), ('to', 'TO'), ('rack', 'VB'), ('his', 'PRP$'), ('brains', 'NNS'), ('for', 'IN'), ('excuses', 'NNS'), (',', ','), ('to', 'TO'), ('prevaricate', 'VB'), (',', ','), ('to', 'TO'), ('lie', 'VB'), ('--', ':'), ('no', 'DT'), (',', ','), ('rather', 'RB'), ('than', 'IN'), ('that', 'DT'), (',', ','), ('he', 'PRP'), ('would', 'MD'), ('creep', 'VB'), ('down', 'RP'), ('the', 'DT'), ('stairs', 'NNS'), ('like', 'IN'), ('a', 'DT'), ('cat', 'NN'), ('and', 'CC'), ('slip', 'NN'), ('out', 'RP'), ('unseen', 'JJ'), ('.', '.'), ('This', 'DT'), ('evening', 'NN'), (',', ','), ('however', 'RB'), (',', ','), ('on', 'IN'), ('coming', 'VBG'), ('out', 'RP'), ('into', 'IN'), ('the', 'DT'), ('street', 'NN'), (',', ','), ('he', 'PRP'), ('became', 'VBD'), ('acutely', 'RB'), ('aware', 'JJ'), ('of', 'IN'), ('his', 'PRP$'), ('fears', 'NNS'), ('.', '.')]\n"
     ]
    }
   ],
   "source": [
    "#POS Tagging each word in the sentence.\n",
    "words_with_pos = nltk.pos_tag(words)\n",
    "print(words_with_pos)\n"
   ]
  },
  {
   "cell_type": "code",
   "execution_count": 7,
   "metadata": {},
   "outputs": [
    {
     "name": "stdout",
     "output_type": "stream",
     "text": [
      "{'bridge': 1, 'feel': 1, 'house': 1, 'K.': 1, 'anxieties': 1, 'evening': 1, 'S.': 1, 'slip': 1, 'gossip': 1, 'cupboard': 1, 'terror': 1, 'attendance': 1, 'hesitation': 1, 'floor': 1, 'dinners': 1, 'fears': 1, 'fellows': 1, 'anyone': 1, 'excuses': 1, 'garret': 3, 'Nothing': 1, 'July': 1, 'man': 2, 'meeting': 1, 'towards': 1, 'door': 1, 'staircase': 1, 'demands': 1, 'importance': 1, 'brains': 1, 'matters': 1, 'Place': 1, 'position': 1, 'complaints': 1, 'threats': 1, 'debt': 1, 'stairs': 2, 'payment': 1, 'condition': 1, 'kitchen': 1, 'desire': 1, 'room': 1, 'hypochondria': 1, 'roof': 1, 'cat': 1, 'street': 1, 'scowl': 1, 'time': 3, 'poverty': 1, 'feeling': 1, 'landlady': 5}\n"
     ]
    }
   ],
   "source": [
    "#Finding all the tokens which are nouns and displaying their counts  as a dictionary\n",
    "word_dictionary = {}\n",
    "NOUN_TAGS = [ 'NN' ,'NNS','NNP' ,'NNPS']\n",
    "\n",
    "for word ,tag in words_with_pos:\n",
    "    if tag in NOUN_TAGS :\n",
    "        if word not in word_dictionary:\n",
    "            word_dictionary[word] = 1\n",
    "        else:\n",
    "            word_dictionary[word] +=1\n",
    "print(word_dictionary)\n"
   ]
  },
  {
   "cell_type": "code",
   "execution_count": 8,
   "metadata": {},
   "outputs": [
    {
     "name": "stdout",
     "output_type": "stream",
     "text": [
      "Frequently occuring nouns\n",
      "['landlady', 'garret', 'time', 'man', 'stairs']\n"
     ]
    }
   ],
   "source": [
    "#Printing out the most frequently occuring nouns . \n",
    "sorted_dict = sorted(word_dictionary, key =word_dictionary.get ,reverse=True)\n",
    "print(\"Frequently occuring nouns\")\n",
    "print(sorted_dict[:5])\n",
    "\n"
   ]
  }
 ],
 "metadata": {
  "kernelspec": {
   "display_name": "Python 2",
   "language": "python",
   "name": "python2"
  },
  "language_info": {
   "codemirror_mode": {
    "name": "ipython",
    "version": 2
   },
   "file_extension": ".py",
   "mimetype": "text/x-python",
   "name": "python",
   "nbconvert_exporter": "python",
   "pygments_lexer": "ipython2",
   "version": "2.7.15rc1"
  }
 },
 "nbformat": 4,
 "nbformat_minor": 2
}
