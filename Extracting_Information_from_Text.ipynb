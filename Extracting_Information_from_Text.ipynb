{
  "nbformat": 4,
  "nbformat_minor": 0,
  "metadata": {
    "colab": {
      "name": "Extracting Information from Text.ipynb",
      "version": "0.3.2",
      "provenance": []
    },
    "kernelspec": {
      "name": "python3",
      "display_name": "Python 3"
    }
  },
  "cells": [
    {
      "cell_type": "markdown",
      "metadata": {
        "id": "4mMjNJarVaJ6",
        "colab_type": "text"
      },
      "source": [
        "### Reference\n",
        "\n",
        "http://www.nltk.org/book/ch07.html"
      ]
    },
    {
      "cell_type": "markdown",
      "metadata": {
        "id": "svlJoZGKNcWh",
        "colab_type": "text"
      },
      "source": [
        "### Information Extraction from structured date \n",
        "\n",
        "      More like a database with tables storing all the information which are of interest . \n",
        "      | Org Name       | Location |\n",
        "      |----------      |----------|\n",
        "      |Omnicom \t    |New York  |\n",
        "      |DDB Needham     |New York  | \n",
        "      |Kaplan Thaler   |New York  |\n",
        "      |BBDO South      |Atlanta   |\n",
        "      |Georgia-Pacific |Atlanta   |\n",
        "      \n",
        "      \n",
        "      \n",
        "      "
      ]
    },
    {
      "cell_type": "code",
      "metadata": {
        "id": "BEODtURCNQK9",
        "colab_type": "code",
        "colab": {
          "base_uri": "https://localhost:8080/",
          "height": 34
        },
        "outputId": "5959ff93-9730-4430-f871-50a00baf95c1"
      },
      "source": [
        "locs = [('Omnicom', 'IN', 'New York'),('DDB Needham', 'IN', 'New York'),\n",
        "         ('Kaplan Thaler Group', 'IN', 'New York'),\n",
        "        ('BBDO South', 'IN', 'Atlanta'),\n",
        "         ('Georgia-Pacific', 'IN', 'Atlanta')]\n",
        "\n",
        "# Showing organization name along with location \n",
        "\n",
        "# Which organizations operate in Atlanta? \n",
        "\n",
        "query = [ e1 for(e1,e2,e3) in locs if e3=='Atlanta' ]\n",
        "query\n",
        "\n"
      ],
      "execution_count": 3,
      "outputs": [
        {
          "output_type": "execute_result",
          "data": {
            "text/plain": [
              "['BBDO South', 'Georgia-Pacific']"
            ]
          },
          "metadata": {
            "tags": []
          },
          "execution_count": 3
        }
      ]
    },
    {
      "cell_type": "markdown",
      "metadata": {
        "id": "N4LE0D-WTgAc",
        "colab_type": "text"
      },
      "source": [
        "Information Extraction usually deals with unstructured data as in \n",
        "\n",
        "\n",
        "  **(1)The fourth Wells account moving to another agency is the packaged paper-products division of Georgia-Pacific Corp., which arrived at Wells only last fall. Like Hertz and the History Channel, it is also leaving for an Omnicom-owned agency, the BBDO South unit of BBDO Worldwide. BBDO South in Atlanta, which handles corporate advertising for Georgia-Pacific, will assume additional duties for brands like Angel Soft toilet tissue and Sparkle paper towels, said Ken Haldin, a spokesman for Georgia-Pacific in Atlanta.**\n",
        "  \n",
        "  \n",
        "  Approaches include \n",
        "  ____________________________\n",
        " \n",
        " 1) General Representation of Meaning\n",
        " \n",
        " 2)  Convert Unstructured data to Structured data \n",
        "\n"
      ]
    },
    {
      "cell_type": "markdown",
      "metadata": {
        "id": "39c_CpyvUjVB",
        "colab_type": "text"
      },
      "source": [
        "### Block Diagram of Information Extraction\n",
        "\n",
        "  ![alt-text](http://www.nltk.org/images/ie-architecture.png )\n",
        "  \n",
        "  Relation Detection is used to identify the relations between entities recognized during Named Entity Recognition (NER)\n",
        "  \n",
        "  \n",
        "  The first three stages the preprocessing phase can be done using the code"
      ]
    },
    {
      "cell_type": "code",
      "metadata": {
        "id": "oFwWNUntPa94",
        "colab_type": "code",
        "colab": {}
      },
      "source": [
        "import nltk\n",
        "\n",
        "def pre_process(document):\n",
        "  sentences = nltk.sent_tokenize(document) \n",
        "  words= [nltk.word_tokenize(sent) for sent in sentences] \n",
        "  pos_tagg = [nltk.pos_tag(word) for word in words] \n",
        "  return pos_tagg"
      ],
      "execution_count": 0,
      "outputs": []
    },
    {
      "cell_type": "code",
      "metadata": {
        "id": "L2UXo4fkXJWf",
        "colab_type": "code",
        "colab": {
          "base_uri": "https://localhost:8080/",
          "height": 139
        },
        "outputId": "379a32d4-b80e-459b-a33c-19f63214c218"
      },
      "source": [
        "nltk.download('punkt')\n",
        "nltk.download('averaged_perceptron_tagger')"
      ],
      "execution_count": 19,
      "outputs": [
        {
          "output_type": "stream",
          "text": [
            "[nltk_data] Downloading package punkt to /root/nltk_data...\n",
            "[nltk_data]   Package punkt is already up-to-date!\n",
            "[nltk_data] Downloading package averaged_perceptron_tagger to\n",
            "[nltk_data]     /root/nltk_data...\n",
            "[nltk_data]   Package averaged_perceptron_tagger is already up-to-\n",
            "[nltk_data]       date!\n"
          ],
          "name": "stdout"
        },
        {
          "output_type": "execute_result",
          "data": {
            "text/plain": [
              "True"
            ]
          },
          "metadata": {
            "tags": []
          },
          "execution_count": 19
        }
      ]
    },
    {
      "cell_type": "code",
      "metadata": {
        "id": "GjX3EjXeV7a8",
        "colab_type": "code",
        "colab": {
          "base_uri": "https://localhost:8080/",
          "height": 54
        },
        "outputId": "f572803f-0075-461c-ed86-683e6a1c0b2e"
      },
      "source": [
        "# Testing with random sentence \n",
        "document = \"The phone comes with an in-display fingerprint scanner and a water drop notch on the display.\"\n",
        "print(pre_process(document))"
      ],
      "execution_count": 24,
      "outputs": [
        {
          "output_type": "stream",
          "text": [
            "[[('The', 'DT'), ('phone', 'NN'), ('comes', 'VBZ'), ('with', 'IN'), ('an', 'DT'), ('in-display', 'JJ'), ('fingerprint', 'NN'), ('scanner', 'NN'), ('and', 'CC'), ('a', 'DT'), ('water', 'NN'), ('drop', 'NN'), ('notch', 'NN'), ('on', 'IN'), ('the', 'DT'), ('display', 'NN'), ('.', '.')]]\n"
          ],
          "name": "stdout"
        }
      ]
    },
    {
      "cell_type": "markdown",
      "metadata": {
        "id": "arl9WqRlYzES",
        "colab_type": "text"
      },
      "source": [
        "  Next comes the named entity recognition phase \n",
        "    Named Entities include\n",
        "  \n",
        "  _________________\n",
        "  \n",
        "  *  Proper Noun (Like names of Persons ,Objects )\n",
        "  \n",
        "  Relation Extraction usually takes place between named entities that are closer to one another ."
      ]
    },
    {
      "cell_type": "code",
      "metadata": {
        "id": "bRSYkUm2XHO0",
        "colab_type": "code",
        "colab": {}
      },
      "source": [
        ""
      ],
      "execution_count": 0,
      "outputs": []
    }
  ]
}